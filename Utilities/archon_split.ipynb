{
 "cells": [
  {
   "cell_type": "code",
   "execution_count": null,
   "metadata": {
    "colab": {
     "base_uri": "https://localhost:8080/"
    },
    "id": "4MlwrB7VvI4P",
    "outputId": "ac805b22-31e3-4805-85c1-b805c305670d"
   },
   "outputs": [
    {
     "output_type": "stream",
     "name": "stdout",
     "text": [
      "Mounted at /content/drive\n"
     ]
    }
   ],
   "source": [
    "from google.colab import drive\n",
    "\n",
    "drive.mount(\"/content/drive\")"
   ]
  },
  {
   "cell_type": "code",
   "execution_count": null,
   "metadata": {
    "id": "dtgDw2XGlsD9"
   },
   "outputs": [],
   "source": [
    "!pip install pydub\n",
    "from pydub import AudioSegment\n",
    "import math\n",
    "import os, os.path\n",
    "\n"
   ]
  },
  {
   "cell_type": "code",
   "execution_count": null,
   "metadata": {
    "id": "DPlalIPIp8P1"
   },
   "outputs": [],
   "source": [
    "destination_db = \"/content/drive/My Drive/Scammers_Sorted_PM\"  # @param {type:\"string\"}\n",
    "directory_db = \"/content/drive/My Drive/Archon_Scammers\"  # @param {type:\"string\"}\n",
    "slice_size = \"250\"  # @param {type:\"string\"}\n",
    "index_num = \"5\"  # @param {type:\"string\"}\n",
    "\n",
    "slice_size = int(slice_size)\n",
    "counter = 0\n",
    "index_num = int(index_num)"
   ]
  },
  {
   "cell_type": "markdown",
   "source": [
    "destination_db: storage location for new sliced files\n",
    "\n",
    "directory_db: location of directory to scrape for audio\n",
    "\n",
    "slice size: in ms\n",
    "\n",
    "index_num: number of characters to use to sort slice db"
   ],
   "metadata": {
    "id": "js1pKcnpZJGw"
   }
  },
  {
   "cell_type": "code",
   "execution_count": null,
   "metadata": {
    "id": "5Ewmio7rjmMH"
   },
   "outputs": [],
   "source": [
    "class SplitWav:\n",
    "    def __init__(self, filename, destination):\n",
    "        self.dest = destination\n",
    "        self.filename = filename\n",
    "\n",
    "        self.audio = AudioSegment.from_wav(self.filename)\n",
    "\n",
    "    def get_duration(self):\n",
    "        return self.audio.duration_seconds\n",
    "\n",
    "    def single_split(self, from_msec, to_msec, split_filename):\n",
    "        t1 = from_msec\n",
    "        t2 = to_msec\n",
    "        split_audio = self.audio[t1:t2]\n",
    "        sort_dir = self.dest + \"/\" + split_filename[:index_num] + \"/\"\n",
    "        if os.path.exists(sort_dir) == False:\n",
    "            os.makedirs(sort_dir)\n",
    "        split_audio.export(sort_dir + split_filename, format=\"wav\")\n",
    "\n",
    "    def multiple_split(self, filebase, msec_per_split):\n",
    "        total_sec = int(self.get_duration()) * 1000\n",
    "        for i in range(0, total_sec, msec_per_split):\n",
    "            filebase = filebase.rsplit(\".\", 1)[0]\n",
    "            split_fn = str(filebase) + \"_\" + str(i) + \".wav\"\n",
    "            self.single_split(i, i + msec_per_split, split_fn)"
   ]
  },
  {
   "cell_type": "code",
   "execution_count": null,
   "metadata": {
    "id": "9tXFuyyKk0Z0"
   },
   "outputs": [],
   "source": [
    "for filename in os.scandir(directory_db):\n",
    "    if filename.path.endswith(\".wav\"):\n",
    "        split_wav = SplitWav(filename, destination_db)\n",
    "        split_wav.multiple_split(filename.name, msec_per_split=slice_size)\n",
    "        counter += 1\n",
    "        print(\"completed \" + str(counter) + \" of \" + str(dir_datasize))"
   ]
  },
  {
   "cell_type": "code",
   "execution_count": null,
   "metadata": {
    "id": "HnhS4KUCHWKY"
   },
   "outputs": [],
   "source": [
    "drive.flush_and_unmount()"
   ]
  }
 ],
 "metadata": {
  "accelerator": "GPU",
  "celltoolbar": "Slideshow",
  "colab": {
   "background_execution": "on",
   "collapsed_sections": [],
   "machine_shape": "hm",
   "name": "archon_split.ipynb",
   "provenance": []
  },
  "kernelspec": {
   "display_name": "Python 3.5 (clean)",
   "language": "python",
   "name": "clean3.5"
  },
  "language_info": {
   "codemirror_mode": {
    "name": "ipython",
    "version": 3
   },
   "file_extension": ".py",
   "mimetype": "text/x-python",
   "name": "python",
   "nbconvert_exporter": "python",
   "pygments_lexer": "ipython3",
   "version": "3.5.2"
  }
 },
 "nbformat": 4,
 "nbformat_minor": 0
}