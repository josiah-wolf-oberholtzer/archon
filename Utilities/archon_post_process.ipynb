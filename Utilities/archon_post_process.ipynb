{
  "nbformat": 4,
  "nbformat_minor": 0,
  "metadata": {
    "celltoolbar": "Slideshow",
    "kernelspec": {
      "display_name": "Python 3.5 (clean)",
      "language": "python",
      "name": "clean3.5"
    },
    "language_info": {
      "codemirror_mode": {
        "name": "ipython",
        "version": 3
      },
      "file_extension": ".py",
      "mimetype": "text/x-python",
      "name": "python",
      "nbconvert_exporter": "python",
      "pygments_lexer": "ipython3",
      "version": "3.5.2"
    },
    "colab": {
      "name": "archon_post_process.ipynb",
      "provenance": [],
      "collapsed_sections": [],
      "machine_shape": "hm",
      "background_execution": "on"
    },
    "accelerator": "GPU"
  },
  "cells": [
    {
      "cell_type": "code",
      "metadata": {
        "id": "4MlwrB7VvI4P",
        "colab": {
          "base_uri": "https://localhost:8080/"
        },
        "outputId": "a7280e02-e158-4607-ebaa-841904bef471"
      },
      "source": [
        "from google.colab import drive\n",
        "drive.mount('/content/drive')"
      ],
      "execution_count": null,
      "outputs": [
        {
          "output_type": "stream",
          "name": "stdout",
          "text": [
            "Mounted at /content/drive\n"
          ]
        }
      ]
    },
    {
      "cell_type": "code",
      "source": [
        "import numpy as np\n",
        "import json as json\n",
        "import pandas as pd\n",
        "import matplotlib.pyplot as plt"
      ],
      "metadata": {
        "id": "dtgDw2XGlsD9"
      },
      "execution_count": null,
      "outputs": []
    },
    {
      "cell_type": "code",
      "metadata": {
        "id": "DPlalIPIp8P1"
      },
      "source": [
        "analysis_filename = \"/content/drive/My Drive/analysis_500ms.json\" #@param {type:\"string\"}\n"
      ],
      "execution_count": null,
      "outputs": []
    },
    {
      "cell_type": "code",
      "source": [
        "## IMPORT JSON FILE\n",
        "def json_load (filename):\n",
        "  f = open(filename)\n",
        "  l = json.load(f)\n",
        "  return l"
      ],
      "metadata": {
        "id": "cKExB2UBsJ4n"
      },
      "execution_count": null,
      "outputs": []
    },
    {
      "cell_type": "code",
      "source": [
        "## COLLECT STATS\n",
        "def unpack_json(dict, metric = \"cent\", pitched = \"both\"):\n",
        "\n",
        "  data = []\n",
        "\n",
        "  for k, v in d_lib.items():\n",
        "    filename = k\n",
        "    sample = v\n",
        "\n",
        "    if (pitched == \"both\"):\n",
        "      if (metric == \"pitch\"): \n",
        "        if sample.get(metric) != \"unpitched\": \n",
        "          pitch = str(sample.get(\"pitch\"))\n",
        "          data.append(pitch[:-1])\n",
        "        else: data.append(sample.get(metric))\n",
        "      else: data.append(float(sample.get(metric)))\n",
        "\n",
        "    elif (pitched == \"pitched\"):\n",
        "      if (sample.get(\"pitch\") != \"unpitched\"):\n",
        "        if (metric == \"pitch\"): data.append(sample.get(metric))\n",
        "        else: data.append(float(sample.get(metric)))\n",
        "\n",
        "    elif (pitched == \"unpitched\"):\n",
        "      if (sample.get(\"pitch\") == \"unpitched\"):\n",
        "        if (metric == \"pitch\"): \n",
        "          print (\"ERROR - check function args\")\n",
        "          break\n",
        "        else: data.append(float(sample.get(metric)))\n",
        "\n",
        "  return data"
      ],
      "metadata": {
        "id": "hHfacO4nX-8T"
      },
      "execution_count": null,
      "outputs": []
    },
    {
      "cell_type": "code",
      "source": [
        "def histogram(dict_, metric, pitched, min, max):\n",
        "  plt.rcParams[\"figure.figsize\"] = [17.50, 11]\n",
        "  plt.rcParams[\"figure.autolayout\"] = True\n",
        "\n",
        "  print(\"starting graph\")\n",
        "  array_ = np.sort(\n",
        "          np.array(\n",
        "              unpack_json(\n",
        "                  dict_, metric, pitched)))\n",
        "  bins_ = np.linspace(min, max, 100)\n",
        "\n",
        "  plt.title((metric + \" Distribution\"))\n",
        "  plt_ = plt.hist(array_, bins_)\n",
        " \n",
        "  plt.xlabel(metric)\n",
        "  plt.ylabel('Magnitude')\n",
        "\n",
        "  plt.show()      "
      ],
      "metadata": {
        "id": "l5fC3Mrn17xr"
      },
      "execution_count": null,
      "outputs": []
    },
    {
      "cell_type": "code",
      "source": [
        "d_lib = json_load(analysis_filename)"
      ],
      "metadata": {
        "id": "itgDEYRCsohg"
      },
      "execution_count": null,
      "outputs": []
    },
    {
      "cell_type": "code",
      "source": [
        "histogram(d_lib, \"cent\", \"unpitched\", 0, 10000)\n",
        "#pitched < 4k, peak around 2.2k\n",
        "#unpitched >2.2k, peak around 3.2k, goes until 8k or so"
      ],
      "metadata": {
        "id": "wcIriNPk0vYy"
      },
      "execution_count": null,
      "outputs": []
    },
    {
      "cell_type": "code",
      "source": [
        "histogram(d_lib, \"flat\", \"unpitched\", 0, 0.1)\n",
        "## unpitched flatness is much greater generally than pitched flatness"
      ],
      "metadata": {
        "id": "WBcmLB8O00Q6"
      },
      "execution_count": null,
      "outputs": []
    },
    {
      "cell_type": "code",
      "source": [
        "histogram(d_lib, \"rolloff\", \"unpitched\", 0, 18000)\n",
        "#pitched < 7.5k generally, peak around 4-5k\n",
        "# unpitched 4k-15k, peaks throughout, much of the center of gravity between 4k and 12.5k"
      ],
      "metadata": {
        "id": "_FyXK4-_DQdm"
      },
      "execution_count": null,
      "outputs": []
    },
    {
      "cell_type": "code",
      "source": [
        "histogram(d_lib, \"rms\", \"both\", 0, 0.5)"
      ],
      "metadata": {
        "id": "1VRq0OYF23dr"
      },
      "execution_count": null,
      "outputs": []
    },
    {
      "cell_type": "code",
      "source": [
        "x = pd.Series(\n",
        "        unpack_json(\n",
        "            d_lib, \"pitch\", \"both\")\n",
        "        ).value_counts()\n",
        "\n",
        "#x\n",
        "x.plot(kind='bar')\n",
        "## most information is nonpitched, though about 1/6th of the elements are pitched "
      ],
      "metadata": {
        "id": "eqFIxDdF3nKS"
      },
      "execution_count": null,
      "outputs": []
    }
  ]
}