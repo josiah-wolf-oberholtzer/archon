{
 "cells": [
  {
   "cell_type": "code",
   "execution_count": null,
   "metadata": {
    "colab": {
     "base_uri": "https://localhost:8080/"
    },
    "id": "4MlwrB7VvI4P",
    "outputId": "a7280e02-e158-4607-ebaa-841904bef471"
   },
   "outputs": [
    {
     "name": "stdout",
     "output_type": "stream",
     "text": [
      "Mounted at /content/drive\n"
     ]
    }
   ],
   "source": [
    "from google.colab import drive\n",
    "\n",
    "drive.mount(\"/content/drive\")"
   ]
  },
  {
   "cell_type": "code",
   "execution_count": null,
   "metadata": {
    "id": "dtgDw2XGlsD9"
   },
   "outputs": [],
   "source": [
    "import numpy as np\n",
    "import json as json\n",
    "import pandas as pd\n",
    "import matplotlib.pyplot as plt"
   ]
  },
  {
   "cell_type": "code",
   "execution_count": null,
   "metadata": {
    "id": "DPlalIPIp8P1"
   },
   "outputs": [],
   "source": [
    "analysis_filename = (\n",
    "    \"/content/drive/My Drive/analysis_500ms.json\"  # @param {type:\"string\"}\n",
    ")"
   ]
  },
  {
   "cell_type": "code",
   "execution_count": null,
   "metadata": {
    "id": "cKExB2UBsJ4n"
   },
   "outputs": [],
   "source": [
    "## IMPORT JSON FILE\n",
    "def json_load(filename):\n",
    "    f = open(filename)\n",
    "    l = json.load(f)\n",
    "    return l"
   ]
  },
  {
   "cell_type": "code",
   "execution_count": null,
   "metadata": {
    "id": "hHfacO4nX-8T"
   },
   "outputs": [],
   "source": [
    "## COLLECT STATS\n",
    "def unpack_json(dict, metric=\"cent\", pitched=\"both\"):\n",
    "\n",
    "    data = []\n",
    "\n",
    "    for k, v in d_lib.items():\n",
    "        filename = k\n",
    "        sample = v\n",
    "\n",
    "        if pitched == \"both\":\n",
    "            if metric == \"pitch\":\n",
    "                if sample.get(metric) != \"unpitched\":\n",
    "                    pitch = str(sample.get(\"pitch\"))\n",
    "                    data.append(pitch[:-1])\n",
    "                else:\n",
    "                    data.append(sample.get(metric))\n",
    "            else:\n",
    "                data.append(float(sample.get(metric)))\n",
    "\n",
    "        elif pitched == \"pitched\":\n",
    "            if sample.get(\"pitch\") != \"unpitched\":\n",
    "                if metric == \"pitch\":\n",
    "                    data.append(sample.get(metric))\n",
    "                else:\n",
    "                    data.append(float(sample.get(metric)))\n",
    "\n",
    "        elif pitched == \"unpitched\":\n",
    "            if sample.get(\"pitch\") == \"unpitched\":\n",
    "                if metric == \"pitch\":\n",
    "                    print(\"ERROR - check function args\")\n",
    "                    break\n",
    "                else:\n",
    "                    data.append(float(sample.get(metric)))\n",
    "\n",
    "    return data"
   ]
  },
  {
   "cell_type": "code",
   "execution_count": null,
   "metadata": {
    "id": "l5fC3Mrn17xr"
   },
   "outputs": [],
   "source": [
    "def histogram(dict_, metric, pitched, min, max):\n",
    "    plt.rcParams[\"figure.figsize\"] = [17.50, 11]\n",
    "    plt.rcParams[\"figure.autolayout\"] = True\n",
    "\n",
    "    print(\"starting graph\")\n",
    "    array_ = np.sort(np.array(unpack_json(dict_, metric, pitched)))\n",
    "    bins_ = np.linspace(min, max, 100)\n",
    "\n",
    "    plt.title((metric + \" Distribution\"))\n",
    "    plt_ = plt.hist(array_, bins_)\n",
    "\n",
    "    plt.xlabel(metric)\n",
    "    plt.ylabel(\"Magnitude\")\n",
    "\n",
    "    plt.show()"
   ]
  },
  {
   "cell_type": "code",
   "execution_count": null,
   "metadata": {
    "id": "itgDEYRCsohg"
   },
   "outputs": [],
   "source": [
    "d_lib = json_load(analysis_filename)"
   ]
  },
  {
   "cell_type": "code",
   "execution_count": null,
   "metadata": {
    "id": "wcIriNPk0vYy"
   },
   "outputs": [],
   "source": [
    "histogram(d_lib, \"cent\", \"unpitched\", 0, 10000)\n",
    "# pitched < 4k, peak around 2.2k\n",
    "# unpitched >2.2k, peak around 3.2k, goes until 8k or so"
   ]
  },
  {
   "cell_type": "code",
   "execution_count": null,
   "metadata": {
    "id": "WBcmLB8O00Q6"
   },
   "outputs": [],
   "source": [
    "histogram(d_lib, \"flat\", \"unpitched\", 0, 0.1)\n",
    "## unpitched flatness is much greater generally than pitched flatness"
   ]
  },
  {
   "cell_type": "code",
   "execution_count": null,
   "metadata": {
    "id": "_FyXK4-_DQdm"
   },
   "outputs": [],
   "source": [
    "histogram(d_lib, \"rolloff\", \"unpitched\", 0, 18000)\n",
    "# pitched < 7.5k generally, peak around 4-5k\n",
    "# unpitched 4k-15k, peaks throughout, much of the center of gravity between 4k and 12.5k"
   ]
  },
  {
   "cell_type": "code",
   "execution_count": null,
   "metadata": {
    "id": "1VRq0OYF23dr"
   },
   "outputs": [],
   "source": [
    "histogram(d_lib, \"rms\", \"both\", 0, 0.5)"
   ]
  },
  {
   "cell_type": "code",
   "execution_count": null,
   "metadata": {
    "id": "eqFIxDdF3nKS"
   },
   "outputs": [],
   "source": [
    "x = pd.Series(unpack_json(d_lib, \"pitch\", \"both\")).value_counts()\n",
    "\n",
    "# x\n",
    "x.plot(kind=\"bar\")\n",
    "## most information is nonpitched, though about 1/6th of the elements are pitched"
   ]
  }
 ],
 "metadata": {
  "accelerator": "GPU",
  "celltoolbar": "Slideshow",
  "colab": {
   "background_execution": "on",
   "collapsed_sections": [],
   "machine_shape": "hm",
   "name": "archon_post_process.ipynb",
   "provenance": []
  },
  "kernelspec": {
   "display_name": "Python 3 (ipykernel)",
   "language": "python",
   "name": "python3"
  },
  "language_info": {
   "codemirror_mode": {
    "name": "ipython",
    "version": 3
   },
   "file_extension": ".py",
   "mimetype": "text/x-python",
   "name": "python",
   "nbconvert_exporter": "python",
   "pygments_lexer": "ipython3",
   "version": "3.10.5"
  }
 },
 "nbformat": 4,
 "nbformat_minor": 1
}
